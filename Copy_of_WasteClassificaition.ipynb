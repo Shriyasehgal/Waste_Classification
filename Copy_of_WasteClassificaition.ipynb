{
  "nbformat": 4,
  "nbformat_minor": 0,
  "metadata": {
    "accelerator": "GPU",
    "colab": {
      "name": "Copy of WasteClassificaition.ipynb",
      "provenance": [],
      "collapsed_sections": []
    },
    "kernelspec": {
      "display_name": "Python 3",
      "name": "python3"
    },
    "language_info": {
      "name": "python"
    }
  },
  "cells": [
    {
      "cell_type": "code",
      "metadata": {
        "colab": {
          "base_uri": "https://localhost:8080/"
        },
        "id": "pVjy5IErq1Cj",
        "outputId": "953efac1-d8b7-4a2c-d390-c35c298006bb"
      },
      "source": [
        "from google.colab import drive\n",
        "#drive.flush_and_unmount()\n",
        "drive.mount('/content/gdrive',force_remount=True)\n"
      ],
      "execution_count": 2,
      "outputs": [
        {
          "output_type": "stream",
          "name": "stdout",
          "text": [
            "Mounted at /content/gdrive\n"
          ]
        }
      ]
    },
    {
      "cell_type": "markdown",
      "source": [
        "# Importing the required Libraries"
      ],
      "metadata": {
        "id": "NVRJeMywWbfM"
      }
    },
    {
      "cell_type": "code",
      "metadata": {
        "id": "S-1RSsuu3qZd"
      },
      "source": [
        "from sklearn.model_selection import train_test_split\n",
        "import os\n",
        "import tensorflow as tf\n",
        "import numpy as np\n",
        "from keras.preprocessing.image import load_img\n",
        "from keras.preprocessing.image import img_to_array\n",
        "from keras.applications.vgg16 import preprocess_input\n",
        "from keras.layers import Dense,Flatten,Conv2D,Activation,Dropout,BatchNormalization\n",
        "from keras import backend as K\n",
        "import keras\n",
        "from tensorflow.keras.optimizers import SGD\n",
        "from keras.models import Sequential, Model\n",
        "from keras.layers import MaxPool2D\n",
        "from keras.callbacks import EarlyStopping,ModelCheckpoint\n",
        "from sklearn.preprocessing import LabelEncoder\n",
        "from sklearn.metrics import f1_score, precision_score, recall_score, roc_auc_score,accuracy_score\n",
        "from collections import Counter"
      ],
      "execution_count": 3,
      "outputs": []
    },
    {
      "cell_type": "markdown",
      "source": [
        "# Creating the Dataset"
      ],
      "metadata": {
        "id": "GaCdWHSvWj0y"
      }
    },
    {
      "cell_type": "code",
      "metadata": {
        "id": "xhKzZsAz3IBr"
      },
      "source": [
        "def create_dataset(img_folder):\n",
        "   \n",
        "    image_path=[]\n",
        "    labels=[]\n",
        "       \n",
        "    for dir1 in os.listdir(img_folder):\n",
        "        for file in os.listdir(os.path.join(img_folder, dir1)):       \n",
        "            image_path.append(os.path.join(img_folder, dir1,file))\n",
        "            label = dir1\n",
        "            labels.append(label)\n",
        "       \n",
        "    return image_path,labels"
      ],
      "execution_count": 4,
      "outputs": []
    },
    {
      "cell_type": "markdown",
      "source": [
        "# Preprocessing The Dataset"
      ],
      "metadata": {
        "id": "lxiHE_IpWm6c"
      }
    },
    {
      "cell_type": "code",
      "metadata": {
        "id": "fuDYazJ2FDVi"
      },
      "source": [
        "def preprocess(X):\n",
        "  preprocess_X = []\n",
        "  for x in X:\n",
        "    image = load_img(x, target_size=(300, 300))\n",
        "    image = img_to_array(image)\n",
        "    image = image.reshape((image.shape[0], image.shape[1], image.shape[2]))\n",
        "    image = preprocess_input(image)\n",
        "    preprocess_X.append(image)\n",
        "  \n",
        "  return preprocess_X"
      ],
      "execution_count": 5,
      "outputs": []
    },
    {
      "cell_type": "code",
      "metadata": {
        "id": "Cug1WD2M37l_"
      },
      "source": [
        "X,Y= create_dataset('/content/gdrive/MyDrive/Final Project/TrashNet/dataset-resized')"
      ],
      "execution_count": 6,
      "outputs": []
    },
    {
      "cell_type": "code",
      "metadata": {
        "id": "xuWFUw6CNMVU"
      },
      "source": [
        "le = LabelEncoder()\n",
        "le.fit(Y)\n",
        "Y = le.transform(Y)"
      ],
      "execution_count": 7,
      "outputs": []
    },
    {
      "cell_type": "code",
      "metadata": {
        "id": "2V3KUijGGI0K"
      },
      "source": [
        "X = preprocess(X)"
      ],
      "execution_count": 8,
      "outputs": []
    },
    {
      "cell_type": "code",
      "metadata": {
        "id": "p5n1IVHuAuwp"
      },
      "source": [
        "X = np.array(X)\n",
        "# Y = np.array(Y)"
      ],
      "execution_count": 9,
      "outputs": []
    },
    {
      "cell_type": "markdown",
      "source": [
        "# Splitting the Dataset"
      ],
      "metadata": {
        "id": "JPJXA3cbcuF_"
      }
    },
    {
      "cell_type": "code",
      "metadata": {
        "id": "VhwPQp9N4KMl"
      },
      "source": [
        "X_train, X_test, Y_train, Y_test = train_test_split(X, Y, test_size=0.3, shuffle = True)"
      ],
      "execution_count": 10,
      "outputs": []
    },
    {
      "cell_type": "markdown",
      "source": [
        "# Model Architectures"
      ],
      "metadata": {
        "id": "PtD9Qxp9dPY-"
      }
    },
    {
      "cell_type": "markdown",
      "source": [
        "## VGG16 Model"
      ],
      "metadata": {
        "id": "KtiTFNvnWrib"
      }
    },
    {
      "cell_type": "code",
      "metadata": {
        "id": "kA1xpmVTAkNI"
      },
      "source": [
        "def VGG16():\n",
        "    model = Sequential()\n",
        "    model.add(Conv2D(input_shape=(224,224,3),filters=64,kernel_size=(3,3),padding=\"same\", activation=\"relu\"))\n",
        "    model.add(Conv2D(filters=64,kernel_size=(3,3),padding=\"same\", activation=\"relu\"))\n",
        "    model.add(MaxPool2D(pool_size=(2,2),strides=(2,2)))\n",
        "    model.add(Conv2D(filters=128, kernel_size=(3,3), padding=\"same\", activation=\"relu\"))\n",
        "    model.add(Conv2D(filters=128, kernel_size=(3,3), padding=\"same\", activation=\"relu\"))\n",
        "    model.add(MaxPool2D(pool_size=(2,2),strides=(2,2)))\n",
        "    model.add(Conv2D(filters=256, kernel_size=(3,3), padding=\"same\", activation=\"relu\"))\n",
        "    model.add(Conv2D(filters=256, kernel_size=(3,3), padding=\"same\", activation=\"relu\"))\n",
        "    model.add(Conv2D(filters=256, kernel_size=(3,3), padding=\"same\", activation=\"relu\"))\n",
        "    model.add(MaxPool2D(pool_size=(2,2),strides=(2,2)))\n",
        "    model.add(Conv2D(filters=512, kernel_size=(3,3), padding=\"same\", activation=\"relu\"))\n",
        "    model.add(Conv2D(filters=512, kernel_size=(3,3), padding=\"same\", activation=\"relu\"))\n",
        "    model.add(Conv2D(filters=512, kernel_size=(3,3), padding=\"same\", activation=\"relu\"))\n",
        "    model.add(MaxPool2D(pool_size=(2,2),strides=(2,2)))\n",
        "    model.add(Conv2D(filters=512, kernel_size=(3,3), padding=\"same\", activation=\"relu\"))\n",
        "    model.add(Conv2D(filters=512, kernel_size=(3,3), padding=\"same\", activation=\"relu\"))\n",
        "    model.add(Conv2D(filters=512, kernel_size=(3,3), padding=\"same\", activation=\"relu\"))\n",
        "    model.add(MaxPool2D(pool_size=(2,2),strides=(2,2),name='vgg16'))\n",
        "    model.add(Flatten(name='flatten'))\n",
        "    model.add(Dense(256, activation='relu', name='fc1'))\n",
        "    model.add(Dense(128, activation='relu', name='fc2'))\n",
        "    model.add(Dense(6, activation='softmax', name='output'))\n",
        "    return model\n"
      ],
      "execution_count": 11,
      "outputs": []
    },
    {
      "cell_type": "markdown",
      "source": [
        "# Model Inspired By VGG16 Model"
      ],
      "metadata": {
        "id": "8yyFBPxjX0wA"
      }
    },
    {
      "cell_type": "code",
      "metadata": {
        "id": "-CChyhOt1j4Y"
      },
      "source": [
        "def modelVGG():\n",
        "  model = Sequential()\n",
        "  model.add(Conv2D(input_shape=(224,224,3),filters=64,kernel_size=(3,3),padding=\"same\", activation=\"relu\"))\n",
        "  model.add(Conv2D(filters=32,kernel_size=(3,3),padding=\"same\", activation=\"relu\"))\n",
        "  model.add(MaxPool2D(pool_size=(2,2)))\n",
        "  model.add(Conv2D(filters=64, kernel_size=(3,3), padding=\"same\", activation=\"relu\"))\n",
        "  model.add(Conv2D(filters=64, kernel_size=(3,3), padding=\"same\", activation=\"relu\"))\n",
        "  model.add(MaxPool2D(pool_size=(2,2)))\n",
        "  model.add(Conv2D(filters=128, kernel_size=(3,3), padding=\"same\", activation=\"relu\"))\n",
        "  model.add(Conv2D(filters=128, kernel_size=(3,3), padding=\"same\", activation=\"relu\"))\n",
        "  model.add(MaxPool2D(pool_size=(2,2)))\n",
        "  model.add(Flatten(name='flatten'))\n",
        "  model.add(Dense(128, activation='relu', name='fc1'))\n",
        "  model.add(Dense(6, activation='softmax', name='output'))\n",
        "  return model\n",
        "\n"
      ],
      "execution_count": 12,
      "outputs": []
    },
    {
      "cell_type": "markdown",
      "source": [
        "# Model Inspired By VGG16 Model with Dropout"
      ],
      "metadata": {
        "id": "5ywPEz3m0RhA"
      }
    },
    {
      "cell_type": "code",
      "metadata": {
        "id": "rgb9TzyFqezs"
      },
      "source": [
        "def modelVGG_Dropout():\n",
        "  model = Sequential()\n",
        "  model.add(Conv2D(input_shape=(224,224,3),filters=64,kernel_size=(3,3),padding=\"same\", activation=\"relu\"))\n",
        "  model.add(Conv2D(filters=32,kernel_size=(3,3),padding=\"same\", activation=\"relu\"))\n",
        "  model.add(MaxPool2D(pool_size=(2,2)))\n",
        "  model.add(Conv2D(filters=64, kernel_size=(3,3), padding=\"same\", activation=\"relu\"))\n",
        "  model.add(Conv2D(filters=64, kernel_size=(3,3), padding=\"same\", activation=\"relu\"))\n",
        "  model.add(MaxPool2D(pool_size=(2,2)))\n",
        "  model.add(Conv2D(filters=128, kernel_size=(3,3), padding=\"same\", activation=\"relu\"))\n",
        "  model.add(Conv2D(filters=128, kernel_size=(3,3), padding=\"same\", activation=\"relu\"))\n",
        "  model.add(MaxPool2D(pool_size=(2,2)))\n",
        "  model.add(Flatten(name='flatten'))\n",
        "  model.add(Dropout(0.6))\n",
        "  model.add(Dense(128, activation='relu', name='fc1'))\n",
        "  model.add(Dense(6, activation='softmax', name='output'))\n",
        "  return model\n",
        "\n"
      ],
      "execution_count": 14,
      "outputs": []
    },
    {
      "cell_type": "markdown",
      "source": [
        "# VGG16 inspired model with Batch Normalisation and Dropout Regularisation Techniques"
      ],
      "metadata": {
        "id": "ksyacGbaYFRi"
      }
    },
    {
      "cell_type": "code",
      "metadata": {
        "id": "mbwU3hgmXrne"
      },
      "source": [
        "def modelVGG_BN():\n",
        "  model = Sequential()\n",
        "  model.add(Conv2D(input_shape=(224,224,3),filters=32,kernel_size=(3,3),padding=\"same\", activation=\"relu\"))\n",
        "  model.add(Conv2D(filters=32,kernel_size=(3,3),padding=\"same\", activation=\"relu\"))\n",
        "  model.add(BatchNormalization())\n",
        "  model.add(MaxPool2D(pool_size=(2,2)))\n",
        "  model.add(Conv2D(filters=64, kernel_size=(3,3), padding=\"same\", activation=\"relu\"))\n",
        "  model.add(Conv2D(filters=64, kernel_size=(3,3), padding=\"same\", activation=\"relu\"))\n",
        "  model.add(BatchNormalization())\n",
        "  model.add(MaxPool2D(pool_size=(2,2)))\n",
        "  model.add(Conv2D(filters=128, kernel_size=(3,3), padding=\"same\", activation=\"relu\"))\n",
        "  model.add(Conv2D(filters=128, kernel_size=(3,3), padding=\"same\", activation=\"relu\"))\n",
        "  model.add(MaxPool2D(pool_size=(2,2)))\n",
        "  model.add(Flatten(name='flatten'))\n",
        "  model.add(BatchNormalization())\n",
        "  model.add(Dropout(0.6))\n",
        "  model.add(Dense(128, activation='relu', name='fc1'))\n",
        "  model.add(Dense(6, activation='softmax', name='output'))\n",
        "  return model\n",
        "\n"
      ],
      "execution_count": 13,
      "outputs": []
    },
    {
      "cell_type": "markdown",
      "source": [
        "# Model 2 Architecture"
      ],
      "metadata": {
        "id": "VE-uVDBtc6bP"
      }
    },
    {
      "cell_type": "code",
      "source": [
        "def model2():\n",
        "  model=Sequential()\n",
        "  #Convolution blocks\n",
        "\n",
        "  model.add(Conv2D(256,(3,3), padding='same',input_shape=(300,300,3),activation='relu'))\n",
        "  model.add(MaxPool2D(pool_size=2)) \n",
        "  model.add(BatchNormalization())\n",
        "\n",
        "  model.add(Conv2D(128,(3,3), padding='same',activation='relu'))\n",
        "  model.add(MaxPool2D(pool_size=2)) \n",
        "  model.add(Conv2D(64,(3,3), padding='same',activation='relu'))\n",
        "  model.add(MaxPool2D(pool_size=2)) \n",
        "  model.add(Conv2D(32,(3,3), padding='same',activation='relu'))\n",
        "  model.add(MaxPool2D(pool_size=2)) \n",
        "\n",
        "  #Classification layers\n",
        "  model.add(Flatten())\n",
        "  model.add(Dense(64,activation='relu'))\n",
        "  model.add(Dropout(0.4))\n",
        "  model.add(Dense(32,activation='relu'))\n",
        "  model.add(Dropout(0.4))\n",
        "  model.add(Dense(6,activation='softmax'))\n",
        "  return model\n"
      ],
      "metadata": {
        "id": "DkAyKWj4AHkP"
      },
      "execution_count": 12,
      "outputs": []
    },
    {
      "cell_type": "markdown",
      "source": [
        "# Training VGG model "
      ],
      "metadata": {
        "id": "HXHq_NSjomdB"
      }
    },
    {
      "cell_type": "code",
      "metadata": {
        "id": "WUi9DNRoCkcd"
      },
      "source": [
        "vgg_model = VGG16()"
      ],
      "execution_count": 15,
      "outputs": []
    },
    {
      "cell_type": "code",
      "metadata": {
        "id": "_CZWTsiYC6nu"
      },
      "source": [
        "opt = SGD(learning_rate=1e-3, momentum=0.9)\n",
        "vgg_model.compile(loss=tf.keras.losses.SparseCategoricalCrossentropy(), optimizer=opt,metrics=[\"accuracy\"])"
      ],
      "execution_count": 16,
      "outputs": []
    },
    {
      "cell_type": "code",
      "source": [
        "vgg_model.fit(X_train,Y_train,epochs=50,verbose=1)"
      ],
      "metadata": {
        "colab": {
          "base_uri": "https://localhost:8080/"
        },
        "id": "Vr6VBtxytJn0",
        "outputId": "80294e9b-b441-41f6-c0ed-45841379bd38"
      },
      "execution_count": 18,
      "outputs": [
        {
          "output_type": "stream",
          "name": "stdout",
          "text": [
            "Epoch 1/50\n",
            "56/56 [==============================] - 24s 429ms/step - loss: 1.6502 - accuracy: 0.3003\n",
            "Epoch 2/50\n",
            "56/56 [==============================] - 21s 379ms/step - loss: 1.4486 - accuracy: 0.4197\n",
            "Epoch 3/50\n",
            "56/56 [==============================] - 21s 384ms/step - loss: 1.2535 - accuracy: 0.5011\n",
            "Epoch 4/50\n",
            "56/56 [==============================] - 22s 389ms/step - loss: 1.2146 - accuracy: 0.5226\n",
            "Epoch 5/50\n",
            "56/56 [==============================] - 22s 394ms/step - loss: 1.1141 - accuracy: 0.5718\n",
            "Epoch 6/50\n",
            "56/56 [==============================] - 22s 395ms/step - loss: 1.0511 - accuracy: 0.5979\n",
            "Epoch 7/50\n",
            "56/56 [==============================] - 22s 400ms/step - loss: 0.9647 - accuracy: 0.6346\n",
            "Epoch 8/50\n",
            "56/56 [==============================] - 23s 402ms/step - loss: 0.9085 - accuracy: 0.6533\n",
            "Epoch 9/50\n",
            "56/56 [==============================] - 23s 402ms/step - loss: 0.8299 - accuracy: 0.6951\n",
            "Epoch 10/50\n",
            "56/56 [==============================] - 23s 405ms/step - loss: 0.7827 - accuracy: 0.7104\n",
            "Epoch 11/50\n",
            "56/56 [==============================] - 23s 403ms/step - loss: 0.7725 - accuracy: 0.7025\n",
            "Epoch 12/50\n",
            "56/56 [==============================] - 23s 403ms/step - loss: 0.8347 - accuracy: 0.6929\n",
            "Epoch 13/50\n",
            "56/56 [==============================] - 23s 404ms/step - loss: 0.6543 - accuracy: 0.7760\n",
            "Epoch 14/50\n",
            "56/56 [==============================] - 23s 405ms/step - loss: 0.5883 - accuracy: 0.7856\n",
            "Epoch 15/50\n",
            "56/56 [==============================] - 23s 406ms/step - loss: 0.4471 - accuracy: 0.8382\n",
            "Epoch 16/50\n",
            "56/56 [==============================] - 23s 405ms/step - loss: 0.5757 - accuracy: 0.7964\n",
            "Epoch 17/50\n",
            "56/56 [==============================] - 23s 406ms/step - loss: 0.4219 - accuracy: 0.8535\n",
            "Epoch 18/50\n",
            "56/56 [==============================] - 23s 406ms/step - loss: 0.4361 - accuracy: 0.8479\n",
            "Epoch 19/50\n",
            "56/56 [==============================] - 23s 406ms/step - loss: 0.4837 - accuracy: 0.8303\n",
            "Epoch 20/50\n",
            "56/56 [==============================] - 23s 406ms/step - loss: 0.2813 - accuracy: 0.9067\n",
            "Epoch 21/50\n",
            "56/56 [==============================] - 23s 406ms/step - loss: 0.2649 - accuracy: 0.9078\n",
            "Epoch 22/50\n",
            "56/56 [==============================] - 23s 406ms/step - loss: 0.2701 - accuracy: 0.9089\n",
            "Epoch 23/50\n",
            "56/56 [==============================] - 23s 407ms/step - loss: 0.2343 - accuracy: 0.9146\n",
            "Epoch 24/50\n",
            "56/56 [==============================] - 23s 408ms/step - loss: 0.2679 - accuracy: 0.9016\n",
            "Epoch 25/50\n",
            "56/56 [==============================] - 23s 413ms/step - loss: 0.2373 - accuracy: 0.9152\n",
            "Epoch 26/50\n",
            "56/56 [==============================] - 23s 407ms/step - loss: 0.1916 - accuracy: 0.9321\n",
            "Epoch 27/50\n",
            "56/56 [==============================] - 23s 408ms/step - loss: 0.1622 - accuracy: 0.9446\n",
            "Epoch 28/50\n",
            "56/56 [==============================] - 23s 409ms/step - loss: 0.0859 - accuracy: 0.9734\n",
            "Epoch 29/50\n",
            "56/56 [==============================] - 23s 409ms/step - loss: 0.1176 - accuracy: 0.9638\n",
            "Epoch 30/50\n",
            "56/56 [==============================] - 23s 408ms/step - loss: 0.0705 - accuracy: 0.9813\n",
            "Epoch 31/50\n",
            "56/56 [==============================] - 23s 413ms/step - loss: 0.0735 - accuracy: 0.9802\n",
            "Epoch 32/50\n",
            "56/56 [==============================] - 23s 408ms/step - loss: 0.0367 - accuracy: 0.9932\n",
            "Epoch 33/50\n",
            "56/56 [==============================] - 23s 407ms/step - loss: 0.0404 - accuracy: 0.9932\n",
            "Epoch 34/50\n",
            "56/56 [==============================] - 23s 407ms/step - loss: 0.0645 - accuracy: 0.9802\n",
            "Epoch 35/50\n",
            "56/56 [==============================] - 23s 407ms/step - loss: 0.1801 - accuracy: 0.9440\n",
            "Epoch 36/50\n",
            "56/56 [==============================] - 23s 407ms/step - loss: 0.0502 - accuracy: 0.9853\n",
            "Epoch 37/50\n",
            "56/56 [==============================] - 23s 406ms/step - loss: 0.0398 - accuracy: 0.9876\n",
            "Epoch 38/50\n",
            "56/56 [==============================] - 23s 406ms/step - loss: 0.0509 - accuracy: 0.9825\n",
            "Epoch 39/50\n",
            "56/56 [==============================] - 23s 410ms/step - loss: 0.0880 - accuracy: 0.9757\n",
            "Epoch 40/50\n",
            "56/56 [==============================] - 23s 413ms/step - loss: 0.0886 - accuracy: 0.9734\n",
            "Epoch 41/50\n",
            "56/56 [==============================] - 23s 410ms/step - loss: 0.0160 - accuracy: 0.9955\n",
            "Epoch 42/50\n",
            "56/56 [==============================] - 23s 410ms/step - loss: 0.0151 - accuracy: 0.9966\n",
            "Epoch 43/50\n",
            "56/56 [==============================] - 23s 407ms/step - loss: 0.0070 - accuracy: 0.9983\n",
            "Epoch 44/50\n",
            "56/56 [==============================] - 23s 406ms/step - loss: 0.0076 - accuracy: 0.9983\n",
            "Epoch 45/50\n",
            "56/56 [==============================] - 23s 406ms/step - loss: 0.0094 - accuracy: 0.9977\n",
            "Epoch 46/50\n",
            "56/56 [==============================] - 23s 407ms/step - loss: 0.0077 - accuracy: 0.9977\n",
            "Epoch 47/50\n",
            "56/56 [==============================] - 23s 406ms/step - loss: 0.0050 - accuracy: 0.9989\n",
            "Epoch 48/50\n",
            "56/56 [==============================] - 23s 407ms/step - loss: 0.0053 - accuracy: 0.9983\n",
            "Epoch 49/50\n",
            "56/56 [==============================] - 23s 407ms/step - loss: 0.0065 - accuracy: 0.9977\n",
            "Epoch 50/50\n",
            "56/56 [==============================] - 23s 407ms/step - loss: 0.0066 - accuracy: 0.9983\n"
          ]
        },
        {
          "output_type": "execute_result",
          "data": {
            "text/plain": [
              "<keras.callbacks.History at 0x7f4d74618150>"
            ]
          },
          "metadata": {},
          "execution_count": 18
        }
      ]
    },
    {
      "cell_type": "code",
      "metadata": {
        "colab": {
          "base_uri": "https://localhost:8080/"
        },
        "id": "5hTddqkNMHwI",
        "outputId": "20a54df3-d180-49ac-b2b3-abc6ab429c18"
      },
      "source": [
        "Y_pred = vgg_model.predict(X_test)\n",
        "Y_pred = tf.argmax(input=Y_pred, axis=1)\n",
        "m = tf.keras.metrics.Accuracy()\n",
        "m.update_state(Y_pred, Y_test)\n",
        "m.result().numpy()"
      ],
      "execution_count": 19,
      "outputs": [
        {
          "output_type": "execute_result",
          "data": {
            "text/plain": [
              "0.743083"
            ]
          },
          "metadata": {},
          "execution_count": 19
        }
      ]
    },
    {
      "cell_type": "markdown",
      "source": [
        "# Training our base model inspired by VGG16"
      ],
      "metadata": {
        "id": "EabtE2CipAnI"
      }
    },
    {
      "cell_type": "code",
      "metadata": {
        "colab": {
          "base_uri": "https://localhost:8080/"
        },
        "id": "_ELRbEh3Midt",
        "outputId": "b1f2a268-369d-4f8e-d04e-28a900efa943"
      },
      "source": [
        "model2 = modelVGG()\n",
        "opt = tf.optimizers.Adam(learning_rate= 0.0005)\n",
        "model2.compile(loss=tf.keras.losses.SparseCategoricalCrossentropy(), optimizer=opt,metrics=[\"accuracy\"])\n",
        "model2.fit(X_train,Y_train,epochs=50,verbose=1)"
      ],
      "execution_count": 20,
      "outputs": [
        {
          "output_type": "stream",
          "name": "stdout",
          "text": [
            "Epoch 1/50\n",
            "56/56 [==============================] - 12s 152ms/step - loss: 5.0939 - accuracy: 0.3795\n",
            "Epoch 2/50\n",
            "56/56 [==============================] - 8s 134ms/step - loss: 1.2679 - accuracy: 0.5102\n",
            "Epoch 3/50\n",
            "56/56 [==============================] - 8s 135ms/step - loss: 1.0647 - accuracy: 0.5973\n",
            "Epoch 4/50\n",
            "56/56 [==============================] - 8s 135ms/step - loss: 0.8240 - accuracy: 0.6912\n",
            "Epoch 5/50\n",
            "56/56 [==============================] - 8s 136ms/step - loss: 0.5657 - accuracy: 0.8054\n",
            "Epoch 6/50\n",
            "56/56 [==============================] - 8s 135ms/step - loss: 0.3021 - accuracy: 0.9010\n",
            "Epoch 7/50\n",
            "56/56 [==============================] - 8s 136ms/step - loss: 0.2360 - accuracy: 0.9231\n",
            "Epoch 8/50\n",
            "56/56 [==============================] - 8s 136ms/step - loss: 0.2179 - accuracy: 0.9270\n",
            "Epoch 9/50\n",
            "56/56 [==============================] - 8s 136ms/step - loss: 0.1927 - accuracy: 0.9378\n",
            "Epoch 10/50\n",
            "56/56 [==============================] - 8s 137ms/step - loss: 0.0741 - accuracy: 0.9802\n",
            "Epoch 11/50\n",
            "56/56 [==============================] - 8s 137ms/step - loss: 0.0467 - accuracy: 0.9898\n",
            "Epoch 12/50\n",
            "56/56 [==============================] - 8s 137ms/step - loss: 0.0433 - accuracy: 0.9904\n",
            "Epoch 13/50\n",
            "56/56 [==============================] - 8s 138ms/step - loss: 0.0877 - accuracy: 0.9774\n",
            "Epoch 14/50\n",
            "56/56 [==============================] - 8s 137ms/step - loss: 0.1091 - accuracy: 0.9717\n",
            "Epoch 15/50\n",
            "56/56 [==============================] - 8s 137ms/step - loss: 0.0643 - accuracy: 0.9853\n",
            "Epoch 16/50\n",
            "56/56 [==============================] - 8s 137ms/step - loss: 0.0317 - accuracy: 0.9932\n",
            "Epoch 17/50\n",
            "56/56 [==============================] - 8s 137ms/step - loss: 0.0304 - accuracy: 0.9898\n",
            "Epoch 18/50\n",
            "56/56 [==============================] - 8s 137ms/step - loss: 0.0704 - accuracy: 0.9791\n",
            "Epoch 19/50\n",
            "56/56 [==============================] - 8s 137ms/step - loss: 0.0240 - accuracy: 0.9966\n",
            "Epoch 20/50\n",
            "56/56 [==============================] - 8s 137ms/step - loss: 0.0197 - accuracy: 0.9977\n",
            "Epoch 21/50\n",
            "56/56 [==============================] - 8s 136ms/step - loss: 0.0106 - accuracy: 0.9972\n",
            "Epoch 22/50\n",
            "56/56 [==============================] - 8s 137ms/step - loss: 0.0097 - accuracy: 0.9977\n",
            "Epoch 23/50\n",
            "56/56 [==============================] - 8s 137ms/step - loss: 0.0098 - accuracy: 0.9977\n",
            "Epoch 24/50\n",
            "56/56 [==============================] - 8s 137ms/step - loss: 0.0068 - accuracy: 0.9972\n",
            "Epoch 25/50\n",
            "56/56 [==============================] - 8s 138ms/step - loss: 0.0067 - accuracy: 0.9977\n",
            "Epoch 26/50\n",
            "56/56 [==============================] - 8s 138ms/step - loss: 0.0081 - accuracy: 0.9977\n",
            "Epoch 27/50\n",
            "56/56 [==============================] - 8s 138ms/step - loss: 0.0069 - accuracy: 0.9977\n",
            "Epoch 28/50\n",
            "56/56 [==============================] - 8s 137ms/step - loss: 0.0072 - accuracy: 0.9972\n",
            "Epoch 29/50\n",
            "56/56 [==============================] - 8s 137ms/step - loss: 0.0091 - accuracy: 0.9977\n",
            "Epoch 30/50\n",
            "56/56 [==============================] - 8s 137ms/step - loss: 0.0074 - accuracy: 0.9977\n",
            "Epoch 31/50\n",
            "56/56 [==============================] - 8s 138ms/step - loss: 0.0073 - accuracy: 0.9972\n",
            "Epoch 32/50\n",
            "56/56 [==============================] - 8s 136ms/step - loss: 0.0064 - accuracy: 0.9972\n",
            "Epoch 33/50\n",
            "56/56 [==============================] - 8s 137ms/step - loss: 0.0069 - accuracy: 0.9977\n",
            "Epoch 34/50\n",
            "56/56 [==============================] - 8s 137ms/step - loss: 0.0064 - accuracy: 0.9972\n",
            "Epoch 35/50\n",
            "56/56 [==============================] - 8s 137ms/step - loss: 0.0063 - accuracy: 0.9977\n",
            "Epoch 36/50\n",
            "56/56 [==============================] - 8s 137ms/step - loss: 0.0069 - accuracy: 0.9977\n",
            "Epoch 37/50\n",
            "56/56 [==============================] - 8s 137ms/step - loss: 0.0078 - accuracy: 0.9977\n",
            "Epoch 38/50\n",
            "56/56 [==============================] - 8s 137ms/step - loss: 0.0088 - accuracy: 0.9983\n",
            "Epoch 39/50\n",
            "56/56 [==============================] - 8s 137ms/step - loss: 0.0060 - accuracy: 0.9966\n",
            "Epoch 40/50\n",
            "56/56 [==============================] - 8s 137ms/step - loss: 0.0058 - accuracy: 0.9977\n",
            "Epoch 41/50\n",
            "56/56 [==============================] - 8s 137ms/step - loss: 0.0049 - accuracy: 0.9966\n",
            "Epoch 42/50\n",
            "56/56 [==============================] - 8s 136ms/step - loss: 0.0043 - accuracy: 0.9977\n",
            "Epoch 43/50\n",
            "56/56 [==============================] - 8s 137ms/step - loss: 0.0115 - accuracy: 0.9966\n",
            "Epoch 44/50\n",
            "56/56 [==============================] - 8s 137ms/step - loss: 0.0087 - accuracy: 0.9972\n",
            "Epoch 45/50\n",
            "56/56 [==============================] - 8s 137ms/step - loss: 0.3416 - accuracy: 0.9044\n",
            "Epoch 46/50\n",
            "56/56 [==============================] - 8s 136ms/step - loss: 0.4955 - accuracy: 0.8405\n",
            "Epoch 47/50\n",
            "56/56 [==============================] - 8s 136ms/step - loss: 0.1424 - accuracy: 0.9497\n",
            "Epoch 48/50\n",
            "56/56 [==============================] - 8s 136ms/step - loss: 0.1051 - accuracy: 0.9689\n",
            "Epoch 49/50\n",
            "56/56 [==============================] - 8s 136ms/step - loss: 0.0341 - accuracy: 0.9887\n",
            "Epoch 50/50\n",
            "56/56 [==============================] - 8s 136ms/step - loss: 0.0415 - accuracy: 0.9893\n"
          ]
        },
        {
          "output_type": "execute_result",
          "data": {
            "text/plain": [
              "<keras.callbacks.History at 0x7f4d741c57d0>"
            ]
          },
          "metadata": {},
          "execution_count": 20
        }
      ]
    },
    {
      "cell_type": "code",
      "metadata": {
        "colab": {
          "base_uri": "https://localhost:8080/"
        },
        "id": "y2aVYUvtZGeJ",
        "outputId": "9a4c7bb7-35ed-40c7-8c28-f18995b716fd"
      },
      "source": [
        "Y_pred2 = model2.predict(X_test)\n",
        "Y_pred2 = tf.argmax(input=Y_pred2, axis=1)\n",
        "m2 = tf.keras.metrics.Accuracy()\n",
        "m2.update_state(Y_pred2, Y_test)\n",
        "m2.result().numpy()"
      ],
      "execution_count": 21,
      "outputs": [
        {
          "output_type": "execute_result",
          "data": {
            "text/plain": [
              "0.54018444"
            ]
          },
          "metadata": {},
          "execution_count": 21
        }
      ]
    },
    {
      "cell_type": "markdown",
      "source": [
        "# Experiments with our model including regularisation Techniques : DROPOUT"
      ],
      "metadata": {
        "id": "liGOrjk6pKYO"
      }
    },
    {
      "cell_type": "code",
      "metadata": {
        "colab": {
          "base_uri": "https://localhost:8080/"
        },
        "id": "0GCyeeMjqeTo",
        "outputId": "a3c546d5-34ad-4820-b973-56cb15137224"
      },
      "source": [
        "model3 = modelVGG_Dropout()\n",
        "opt = tf.optimizers.Adam(learning_rate= 0.0005)\n",
        "model3.compile(loss=tf.keras.losses.SparseCategoricalCrossentropy(), optimizer=opt,metrics=[\"accuracy\"])\n",
        "model3.fit(X_train,Y_train, epochs=50,verbose=1)\n",
        "Y_pred3 = model3.predict(X_test)\n",
        "Y_pred3 = tf.argmax(input=Y_pred3, axis=1)"
      ],
      "execution_count": 22,
      "outputs": [
        {
          "output_type": "stream",
          "name": "stdout",
          "text": [
            "Epoch 1/50\n",
            "56/56 [==============================] - 8s 136ms/step - loss: 4.2471 - accuracy: 0.3416\n",
            "Epoch 2/50\n",
            "56/56 [==============================] - 8s 136ms/step - loss: 1.2594 - accuracy: 0.5119\n",
            "Epoch 3/50\n",
            "56/56 [==============================] - 8s 137ms/step - loss: 1.0868 - accuracy: 0.5916\n",
            "Epoch 4/50\n",
            "56/56 [==============================] - 8s 136ms/step - loss: 0.8984 - accuracy: 0.6691\n",
            "Epoch 5/50\n",
            "56/56 [==============================] - 8s 142ms/step - loss: 0.7409 - accuracy: 0.7291\n",
            "Epoch 6/50\n",
            "56/56 [==============================] - 8s 139ms/step - loss: 0.6240 - accuracy: 0.7738\n",
            "Epoch 7/50\n",
            "56/56 [==============================] - 8s 136ms/step - loss: 0.4142 - accuracy: 0.8558\n",
            "Epoch 8/50\n",
            "56/56 [==============================] - 8s 137ms/step - loss: 0.2814 - accuracy: 0.9005\n",
            "Epoch 9/50\n",
            "56/56 [==============================] - 8s 138ms/step - loss: 0.2430 - accuracy: 0.9152\n",
            "Epoch 10/50\n",
            "56/56 [==============================] - 8s 138ms/step - loss: 0.2270 - accuracy: 0.9219\n",
            "Epoch 11/50\n",
            "56/56 [==============================] - 8s 137ms/step - loss: 0.1889 - accuracy: 0.9400\n",
            "Epoch 12/50\n",
            "56/56 [==============================] - 8s 138ms/step - loss: 0.1458 - accuracy: 0.9508\n",
            "Epoch 13/50\n",
            "56/56 [==============================] - 8s 137ms/step - loss: 0.1537 - accuracy: 0.9491\n",
            "Epoch 14/50\n",
            "56/56 [==============================] - 8s 137ms/step - loss: 0.1296 - accuracy: 0.9655\n",
            "Epoch 15/50\n",
            "56/56 [==============================] - 8s 137ms/step - loss: 0.0786 - accuracy: 0.9734\n",
            "Epoch 16/50\n",
            "56/56 [==============================] - 8s 138ms/step - loss: 0.0680 - accuracy: 0.9796\n",
            "Epoch 17/50\n",
            "56/56 [==============================] - 8s 140ms/step - loss: 0.1015 - accuracy: 0.9689\n",
            "Epoch 18/50\n",
            "56/56 [==============================] - 8s 139ms/step - loss: 0.1099 - accuracy: 0.9666\n",
            "Epoch 19/50\n",
            "56/56 [==============================] - 8s 137ms/step - loss: 0.0687 - accuracy: 0.9757\n",
            "Epoch 20/50\n",
            "56/56 [==============================] - 8s 138ms/step - loss: 0.0961 - accuracy: 0.9757\n",
            "Epoch 21/50\n",
            "56/56 [==============================] - 8s 138ms/step - loss: 0.0661 - accuracy: 0.9762\n",
            "Epoch 22/50\n",
            "56/56 [==============================] - 8s 137ms/step - loss: 0.0383 - accuracy: 0.9853\n",
            "Epoch 23/50\n",
            "56/56 [==============================] - 8s 137ms/step - loss: 0.0451 - accuracy: 0.9853\n",
            "Epoch 24/50\n",
            "56/56 [==============================] - 8s 137ms/step - loss: 0.0273 - accuracy: 0.9898\n",
            "Epoch 25/50\n",
            "56/56 [==============================] - 8s 137ms/step - loss: 0.0439 - accuracy: 0.9836\n",
            "Epoch 26/50\n",
            "56/56 [==============================] - 8s 137ms/step - loss: 0.2568 - accuracy: 0.9316\n",
            "Epoch 27/50\n",
            "56/56 [==============================] - 8s 138ms/step - loss: 0.1172 - accuracy: 0.9683\n",
            "Epoch 28/50\n",
            "56/56 [==============================] - 8s 138ms/step - loss: 0.0928 - accuracy: 0.9762\n",
            "Epoch 29/50\n",
            "56/56 [==============================] - 8s 137ms/step - loss: 0.0483 - accuracy: 0.9842\n",
            "Epoch 30/50\n",
            "56/56 [==============================] - 8s 137ms/step - loss: 0.0594 - accuracy: 0.9802\n",
            "Epoch 31/50\n",
            "56/56 [==============================] - 8s 138ms/step - loss: 0.0365 - accuracy: 0.9881\n",
            "Epoch 32/50\n",
            "56/56 [==============================] - 8s 140ms/step - loss: 0.0242 - accuracy: 0.9898\n",
            "Epoch 33/50\n",
            "56/56 [==============================] - 8s 138ms/step - loss: 0.0331 - accuracy: 0.9904\n",
            "Epoch 34/50\n",
            "56/56 [==============================] - 8s 137ms/step - loss: 0.0614 - accuracy: 0.9853\n",
            "Epoch 35/50\n",
            "56/56 [==============================] - 8s 137ms/step - loss: 0.0438 - accuracy: 0.9847\n",
            "Epoch 36/50\n",
            "56/56 [==============================] - 8s 138ms/step - loss: 0.0520 - accuracy: 0.9859\n",
            "Epoch 37/50\n",
            "56/56 [==============================] - 8s 139ms/step - loss: 0.1283 - accuracy: 0.9666\n",
            "Epoch 38/50\n",
            "56/56 [==============================] - 8s 138ms/step - loss: 0.1001 - accuracy: 0.9700\n",
            "Epoch 39/50\n",
            "56/56 [==============================] - 8s 139ms/step - loss: 0.0379 - accuracy: 0.9876\n",
            "Epoch 40/50\n",
            "56/56 [==============================] - 8s 139ms/step - loss: 0.0129 - accuracy: 0.9966\n",
            "Epoch 41/50\n",
            "56/56 [==============================] - 8s 138ms/step - loss: 0.0247 - accuracy: 0.9910\n",
            "Epoch 42/50\n",
            "56/56 [==============================] - 8s 138ms/step - loss: 0.0282 - accuracy: 0.9921\n",
            "Epoch 43/50\n",
            "56/56 [==============================] - 8s 138ms/step - loss: 0.0337 - accuracy: 0.9893\n",
            "Epoch 44/50\n",
            "56/56 [==============================] - 8s 138ms/step - loss: 0.0136 - accuracy: 0.9949\n",
            "Epoch 45/50\n",
            "56/56 [==============================] - 8s 138ms/step - loss: 0.0367 - accuracy: 0.9898\n",
            "Epoch 46/50\n",
            "56/56 [==============================] - 8s 138ms/step - loss: 0.0102 - accuracy: 0.9960\n",
            "Epoch 47/50\n",
            "56/56 [==============================] - 8s 138ms/step - loss: 0.0053 - accuracy: 0.9977\n",
            "Epoch 48/50\n",
            "56/56 [==============================] - 8s 137ms/step - loss: 0.0176 - accuracy: 0.9943\n",
            "Epoch 49/50\n",
            "56/56 [==============================] - 8s 138ms/step - loss: 0.0272 - accuracy: 0.9898\n",
            "Epoch 50/50\n",
            "56/56 [==============================] - 8s 137ms/step - loss: 0.0238 - accuracy: 0.9915\n"
          ]
        }
      ]
    },
    {
      "cell_type": "code",
      "source": [
        "m3 = tf.keras.metrics.Accuracy()\n",
        "m3.update_state(Y_pred3, Y_test)\n",
        "m3.result().numpy()"
      ],
      "metadata": {
        "colab": {
          "base_uri": "https://localhost:8080/"
        },
        "id": "zWN7kUtGvzgh",
        "outputId": "b560be23-95e4-411d-d824-830705da1a67"
      },
      "execution_count": 23,
      "outputs": [
        {
          "output_type": "execute_result",
          "data": {
            "text/plain": [
              "0.6482214"
            ]
          },
          "metadata": {},
          "execution_count": 23
        }
      ]
    },
    {
      "cell_type": "markdown",
      "source": [
        "# Experiments with our model using regualisation technique: Batch Normalisation"
      ],
      "metadata": {
        "id": "Yf4ZJ9NPv-da"
      }
    },
    {
      "cell_type": "code",
      "source": [
        "model4 = modelVGG_BN()\n",
        "opt = tf.optimizers.Adam(learning_rate= 0.0005)\n",
        "model4.compile(loss=tf.keras.losses.SparseCategoricalCrossentropy(), optimizer=opt,metrics=[\"accuracy\"])\n",
        "model4.fit(X_train,Y_train, epochs=50,verbose=1)\n",
        "Y_pred4 = model4.predict(X_test)\n",
        "Y_pred4 = tf.argmax(input=Y_pred4, axis=1)"
      ],
      "metadata": {
        "colab": {
          "base_uri": "https://localhost:8080/"
        },
        "id": "FZykc7JTwhmC",
        "outputId": "1a0833cd-2812-4a98-b07f-5c57981065fb"
      },
      "execution_count": 24,
      "outputs": [
        {
          "output_type": "stream",
          "name": "stdout",
          "text": [
            "Epoch 1/50\n",
            "56/56 [==============================] - 10s 134ms/step - loss: 4.8102 - accuracy: 0.4830\n",
            "Epoch 2/50\n",
            "56/56 [==============================] - 7s 127ms/step - loss: 2.7286 - accuracy: 0.6058\n",
            "Epoch 3/50\n",
            "56/56 [==============================] - 7s 128ms/step - loss: 1.6062 - accuracy: 0.6827\n",
            "Epoch 4/50\n",
            "56/56 [==============================] - 7s 127ms/step - loss: 1.0079 - accuracy: 0.7477\n",
            "Epoch 5/50\n",
            "56/56 [==============================] - 7s 128ms/step - loss: 0.9425 - accuracy: 0.8049\n",
            "Epoch 6/50\n",
            "56/56 [==============================] - 7s 128ms/step - loss: 0.6101 - accuracy: 0.8428\n",
            "Epoch 7/50\n",
            "56/56 [==============================] - 7s 128ms/step - loss: 0.5961 - accuracy: 0.8682\n",
            "Epoch 8/50\n",
            "56/56 [==============================] - 7s 128ms/step - loss: 0.5737 - accuracy: 0.8558\n",
            "Epoch 9/50\n",
            "56/56 [==============================] - 7s 129ms/step - loss: 0.4537 - accuracy: 0.8925\n",
            "Epoch 10/50\n",
            "56/56 [==============================] - 7s 129ms/step - loss: 0.4683 - accuracy: 0.9005\n",
            "Epoch 11/50\n",
            "56/56 [==============================] - 7s 129ms/step - loss: 0.3098 - accuracy: 0.9157\n",
            "Epoch 12/50\n",
            "56/56 [==============================] - 7s 129ms/step - loss: 0.1355 - accuracy: 0.9536\n",
            "Epoch 13/50\n",
            "56/56 [==============================] - 7s 129ms/step - loss: 0.1514 - accuracy: 0.9621\n",
            "Epoch 14/50\n",
            "56/56 [==============================] - 7s 129ms/step - loss: 0.0970 - accuracy: 0.9717\n",
            "Epoch 15/50\n",
            "56/56 [==============================] - 7s 130ms/step - loss: 0.1308 - accuracy: 0.9644\n",
            "Epoch 16/50\n",
            "56/56 [==============================] - 7s 129ms/step - loss: 0.1539 - accuracy: 0.9480\n",
            "Epoch 17/50\n",
            "56/56 [==============================] - 7s 130ms/step - loss: 0.1546 - accuracy: 0.9553\n",
            "Epoch 18/50\n",
            "56/56 [==============================] - 7s 130ms/step - loss: 0.1685 - accuracy: 0.9531\n",
            "Epoch 19/50\n",
            "56/56 [==============================] - 7s 130ms/step - loss: 0.1534 - accuracy: 0.9587\n",
            "Epoch 20/50\n",
            "56/56 [==============================] - 7s 130ms/step - loss: 0.1495 - accuracy: 0.9621\n",
            "Epoch 21/50\n",
            "56/56 [==============================] - 7s 133ms/step - loss: 0.1308 - accuracy: 0.9604\n",
            "Epoch 22/50\n",
            "56/56 [==============================] - 7s 130ms/step - loss: 0.1654 - accuracy: 0.9497\n",
            "Epoch 23/50\n",
            "56/56 [==============================] - 7s 130ms/step - loss: 0.1650 - accuracy: 0.9542\n",
            "Epoch 24/50\n",
            "56/56 [==============================] - 7s 131ms/step - loss: 0.1133 - accuracy: 0.9632\n",
            "Epoch 25/50\n",
            "56/56 [==============================] - 7s 131ms/step - loss: 0.1206 - accuracy: 0.9712\n",
            "Epoch 26/50\n",
            "56/56 [==============================] - 7s 131ms/step - loss: 0.2160 - accuracy: 0.9508\n",
            "Epoch 27/50\n",
            "56/56 [==============================] - 7s 131ms/step - loss: 0.1566 - accuracy: 0.9553\n",
            "Epoch 28/50\n",
            "56/56 [==============================] - 7s 131ms/step - loss: 0.0720 - accuracy: 0.9830\n",
            "Epoch 29/50\n",
            "56/56 [==============================] - 7s 132ms/step - loss: 0.1043 - accuracy: 0.9700\n",
            "Epoch 30/50\n",
            "56/56 [==============================] - 7s 132ms/step - loss: 0.0963 - accuracy: 0.9734\n",
            "Epoch 31/50\n",
            "56/56 [==============================] - 7s 132ms/step - loss: 0.0747 - accuracy: 0.9796\n",
            "Epoch 32/50\n",
            "56/56 [==============================] - 7s 131ms/step - loss: 0.0643 - accuracy: 0.9819\n",
            "Epoch 33/50\n",
            "56/56 [==============================] - 7s 131ms/step - loss: 0.1104 - accuracy: 0.9706\n",
            "Epoch 34/50\n",
            "56/56 [==============================] - 7s 131ms/step - loss: 0.1920 - accuracy: 0.9638\n",
            "Epoch 35/50\n",
            "56/56 [==============================] - 7s 130ms/step - loss: 0.2029 - accuracy: 0.9491\n",
            "Epoch 36/50\n",
            "56/56 [==============================] - 7s 131ms/step - loss: 0.1316 - accuracy: 0.9615\n",
            "Epoch 37/50\n",
            "56/56 [==============================] - 7s 132ms/step - loss: 0.0903 - accuracy: 0.9774\n",
            "Epoch 38/50\n",
            "56/56 [==============================] - 7s 132ms/step - loss: 0.0610 - accuracy: 0.9847\n",
            "Epoch 39/50\n",
            "56/56 [==============================] - 7s 131ms/step - loss: 0.0859 - accuracy: 0.9768\n",
            "Epoch 40/50\n",
            "56/56 [==============================] - 7s 131ms/step - loss: 0.0603 - accuracy: 0.9813\n",
            "Epoch 41/50\n",
            "56/56 [==============================] - 7s 131ms/step - loss: 0.0858 - accuracy: 0.9779\n",
            "Epoch 42/50\n",
            "56/56 [==============================] - 7s 131ms/step - loss: 0.0927 - accuracy: 0.9819\n",
            "Epoch 43/50\n",
            "56/56 [==============================] - 7s 131ms/step - loss: 0.1624 - accuracy: 0.9604\n",
            "Epoch 44/50\n",
            "56/56 [==============================] - 7s 131ms/step - loss: 0.1313 - accuracy: 0.9712\n",
            "Epoch 45/50\n",
            "56/56 [==============================] - 7s 131ms/step - loss: 0.1320 - accuracy: 0.9661\n",
            "Epoch 46/50\n",
            "56/56 [==============================] - 7s 132ms/step - loss: 0.0838 - accuracy: 0.9762\n",
            "Epoch 47/50\n",
            "56/56 [==============================] - 7s 131ms/step - loss: 0.0786 - accuracy: 0.9802\n",
            "Epoch 48/50\n",
            "56/56 [==============================] - 7s 132ms/step - loss: 0.0773 - accuracy: 0.9745\n",
            "Epoch 49/50\n",
            "56/56 [==============================] - 7s 131ms/step - loss: 0.0951 - accuracy: 0.9757\n",
            "Epoch 50/50\n",
            "56/56 [==============================] - 7s 131ms/step - loss: 0.0937 - accuracy: 0.9830\n"
          ]
        }
      ]
    },
    {
      "cell_type": "code",
      "source": [
        "m4 = tf.keras.metrics.Accuracy()\n",
        "m4.update_state(Y_pred4, Y_test)\n",
        "m4.result().numpy()"
      ],
      "metadata": {
        "colab": {
          "base_uri": "https://localhost:8080/"
        },
        "id": "etqmD2Ipwhun",
        "outputId": "f0caa926-5697-49cf-dbc8-01b7033334b5"
      },
      "execution_count": 25,
      "outputs": [
        {
          "output_type": "execute_result",
          "data": {
            "text/plain": [
              "0.6627141"
            ]
          },
          "metadata": {},
          "execution_count": 25
        }
      ]
    },
    {
      "cell_type": "markdown",
      "source": [
        "# Experiments with our model with Data Augmentation"
      ],
      "metadata": {
        "id": "34MYbA48w0m3"
      }
    },
    {
      "cell_type": "code",
      "metadata": {
        "id": "USP2djxwqZVo"
      },
      "source": [
        "from tensorflow.keras.preprocessing.image import ImageDataGenerator\n",
        "\n",
        "data_generator = ImageDataGenerator(brightness_range=(0.5, 0.99), zoom_range=[0.7, 1.3])\n",
        "data_generator.fit(X, augment=True)\n",
        "train_gen = data_generator.flow(x=X_train, y=Y_train)\n",
        "test_gen = data_generator.flow(x=X_test, y=Y_test)"
      ],
      "execution_count": 11,
      "outputs": []
    },
    {
      "cell_type": "code",
      "source": [
        "model5 = modelVGG_BN()\n",
        "opt = tf.optimizers.Adam(learning_rate= 0.0005)\n",
        "model5.compile(loss=tf.keras.losses.SparseCategoricalCrossentropy(), optimizer=opt,metrics=[\"accuracy\"])\n",
        "model5.fit(train_gen,validation_data=test_gen, epochs=50,verbose=1)\n",
        "Y_pred5 = model5.predict(X_test)\n",
        "Y_pred5 = tf.argmax(input=Y_pred5, axis=1)"
      ],
      "metadata": {
        "colab": {
          "base_uri": "https://localhost:8080/"
        },
        "id": "r3InBgF12_fD",
        "outputId": "c5c0a496-acd4-4597-b129-c5230e67b551"
      },
      "execution_count": 15,
      "outputs": [
        {
          "output_type": "stream",
          "name": "stdout",
          "text": [
            "Epoch 1/50\n",
            "56/56 [==============================] - 47s 594ms/step - loss: 6.1802 - accuracy: 0.3908 - val_loss: 9.9676 - val_accuracy: 0.1963\n",
            "Epoch 2/50\n",
            "56/56 [==============================] - 31s 557ms/step - loss: 4.3732 - accuracy: 0.4564 - val_loss: 8.2749 - val_accuracy: 0.2701\n",
            "Epoch 3/50\n",
            "56/56 [==============================] - 32s 564ms/step - loss: 3.0289 - accuracy: 0.4745 - val_loss: 2.1121 - val_accuracy: 0.2793\n",
            "Epoch 4/50\n",
            "56/56 [==============================] - 32s 567ms/step - loss: 1.6719 - accuracy: 0.5402 - val_loss: 1.5173 - val_accuracy: 0.3518\n",
            "Epoch 5/50\n",
            "56/56 [==============================] - 31s 557ms/step - loss: 1.2816 - accuracy: 0.6069 - val_loss: 3.2602 - val_accuracy: 0.3821\n",
            "Epoch 6/50\n",
            "56/56 [==============================] - 35s 635ms/step - loss: 1.2151 - accuracy: 0.5865 - val_loss: 1.6600 - val_accuracy: 0.3570\n",
            "Epoch 7/50\n",
            "56/56 [==============================] - 40s 721ms/step - loss: 1.0498 - accuracy: 0.6290 - val_loss: 1.5200 - val_accuracy: 0.4480\n",
            "Epoch 8/50\n",
            "56/56 [==============================] - 31s 551ms/step - loss: 0.9117 - accuracy: 0.6804 - val_loss: 1.5771 - val_accuracy: 0.5441\n",
            "Epoch 9/50\n",
            "56/56 [==============================] - 31s 561ms/step - loss: 0.8100 - accuracy: 0.7234 - val_loss: 1.2539 - val_accuracy: 0.5033\n",
            "Epoch 10/50\n",
            "56/56 [==============================] - 31s 548ms/step - loss: 0.8239 - accuracy: 0.7014 - val_loss: 1.8568 - val_accuracy: 0.4928\n",
            "Epoch 11/50\n",
            "56/56 [==============================] - 30s 542ms/step - loss: 0.7443 - accuracy: 0.7381 - val_loss: 1.1538 - val_accuracy: 0.5850\n",
            "Epoch 12/50\n",
            "56/56 [==============================] - 30s 536ms/step - loss: 0.6773 - accuracy: 0.7760 - val_loss: 1.1763 - val_accuracy: 0.5889\n",
            "Epoch 13/50\n",
            "56/56 [==============================] - 30s 539ms/step - loss: 0.6202 - accuracy: 0.7834 - val_loss: 2.0226 - val_accuracy: 0.5020\n",
            "Epoch 14/50\n",
            "56/56 [==============================] - 30s 540ms/step - loss: 0.6160 - accuracy: 0.7800 - val_loss: 1.3690 - val_accuracy: 0.5889\n",
            "Epoch 15/50\n",
            "56/56 [==============================] - 30s 538ms/step - loss: 0.5222 - accuracy: 0.8213 - val_loss: 1.5687 - val_accuracy: 0.6245\n",
            "Epoch 16/50\n",
            "56/56 [==============================] - 30s 537ms/step - loss: 0.4913 - accuracy: 0.8303 - val_loss: 1.4923 - val_accuracy: 0.6113\n",
            "Epoch 17/50\n",
            "56/56 [==============================] - 30s 539ms/step - loss: 0.5298 - accuracy: 0.8269 - val_loss: 2.4565 - val_accuracy: 0.4638\n",
            "Epoch 18/50\n",
            "56/56 [==============================] - 30s 539ms/step - loss: 0.5000 - accuracy: 0.8348 - val_loss: 2.1958 - val_accuracy: 0.4480\n",
            "Epoch 19/50\n",
            "56/56 [==============================] - 30s 537ms/step - loss: 0.5076 - accuracy: 0.8298 - val_loss: 2.0240 - val_accuracy: 0.5257\n",
            "Epoch 20/50\n",
            "56/56 [==============================] - 30s 533ms/step - loss: 0.4020 - accuracy: 0.8620 - val_loss: 1.7330 - val_accuracy: 0.5402\n",
            "Epoch 21/50\n",
            "56/56 [==============================] - 30s 538ms/step - loss: 0.4891 - accuracy: 0.8439 - val_loss: 2.7439 - val_accuracy: 0.4941\n",
            "Epoch 22/50\n",
            "56/56 [==============================] - 30s 533ms/step - loss: 0.3707 - accuracy: 0.8733 - val_loss: 1.7900 - val_accuracy: 0.5744\n",
            "Epoch 23/50\n",
            "56/56 [==============================] - 30s 537ms/step - loss: 0.3824 - accuracy: 0.8739 - val_loss: 2.7991 - val_accuracy: 0.4704\n",
            "Epoch 24/50\n",
            "56/56 [==============================] - 30s 535ms/step - loss: 0.3507 - accuracy: 0.8773 - val_loss: 1.8075 - val_accuracy: 0.5178\n",
            "Epoch 25/50\n",
            "56/56 [==============================] - 30s 536ms/step - loss: 0.4577 - accuracy: 0.8552 - val_loss: 1.8177 - val_accuracy: 0.4769\n",
            "Epoch 26/50\n",
            "56/56 [==============================] - 32s 565ms/step - loss: 0.3776 - accuracy: 0.8756 - val_loss: 2.6039 - val_accuracy: 0.5020\n",
            "Epoch 27/50\n",
            "56/56 [==============================] - 32s 575ms/step - loss: 0.3527 - accuracy: 0.8824 - val_loss: 1.9995 - val_accuracy: 0.5323\n",
            "Epoch 28/50\n",
            "56/56 [==============================] - 31s 561ms/step - loss: 0.3722 - accuracy: 0.8710 - val_loss: 2.0482 - val_accuracy: 0.5415\n",
            "Epoch 29/50\n",
            "56/56 [==============================] - 31s 557ms/step - loss: 0.3368 - accuracy: 0.8801 - val_loss: 2.0977 - val_accuracy: 0.5323\n",
            "Epoch 30/50\n",
            "56/56 [==============================] - 31s 547ms/step - loss: 0.3581 - accuracy: 0.8824 - val_loss: 1.5038 - val_accuracy: 0.5955\n",
            "Epoch 31/50\n",
            "56/56 [==============================] - 31s 552ms/step - loss: 0.3634 - accuracy: 0.8761 - val_loss: 2.4026 - val_accuracy: 0.5573\n",
            "Epoch 32/50\n",
            "56/56 [==============================] - 31s 548ms/step - loss: 0.3544 - accuracy: 0.8812 - val_loss: 3.3437 - val_accuracy: 0.4466\n",
            "Epoch 33/50\n",
            "56/56 [==============================] - 30s 533ms/step - loss: 0.3583 - accuracy: 0.8761 - val_loss: 1.8800 - val_accuracy: 0.5903\n",
            "Epoch 34/50\n",
            "56/56 [==============================] - 34s 600ms/step - loss: 0.3801 - accuracy: 0.8676 - val_loss: 3.9175 - val_accuracy: 0.3794\n",
            "Epoch 35/50\n",
            "56/56 [==============================] - 32s 563ms/step - loss: 0.3638 - accuracy: 0.8874 - val_loss: 2.2927 - val_accuracy: 0.4783\n",
            "Epoch 36/50\n",
            "56/56 [==============================] - 30s 532ms/step - loss: 0.3657 - accuracy: 0.8716 - val_loss: 3.8867 - val_accuracy: 0.4269\n",
            "Epoch 37/50\n",
            "56/56 [==============================] - 30s 536ms/step - loss: 0.2831 - accuracy: 0.9016 - val_loss: 1.3154 - val_accuracy: 0.6588\n",
            "Epoch 38/50\n",
            "56/56 [==============================] - 30s 536ms/step - loss: 0.2828 - accuracy: 0.9180 - val_loss: 2.1097 - val_accuracy: 0.5494\n",
            "Epoch 39/50\n",
            "56/56 [==============================] - 30s 535ms/step - loss: 0.2384 - accuracy: 0.9174 - val_loss: 1.5529 - val_accuracy: 0.6640\n",
            "Epoch 40/50\n",
            "56/56 [==============================] - 30s 534ms/step - loss: 0.2182 - accuracy: 0.9219 - val_loss: 1.6911 - val_accuracy: 0.6021\n",
            "Epoch 41/50\n",
            "56/56 [==============================] - 30s 533ms/step - loss: 0.2756 - accuracy: 0.9095 - val_loss: 1.2141 - val_accuracy: 0.6021\n",
            "Epoch 42/50\n",
            "56/56 [==============================] - 30s 537ms/step - loss: 0.2176 - accuracy: 0.9214 - val_loss: 1.9595 - val_accuracy: 0.5758\n",
            "Epoch 43/50\n",
            "56/56 [==============================] - 30s 544ms/step - loss: 0.2142 - accuracy: 0.9321 - val_loss: 1.3102 - val_accuracy: 0.7128\n",
            "Epoch 44/50\n",
            "56/56 [==============================] - 30s 539ms/step - loss: 0.2150 - accuracy: 0.9310 - val_loss: 2.8324 - val_accuracy: 0.4743\n",
            "Epoch 45/50\n",
            "56/56 [==============================] - 33s 585ms/step - loss: 0.1770 - accuracy: 0.9395 - val_loss: 1.9629 - val_accuracy: 0.6337\n",
            "Epoch 46/50\n",
            "56/56 [==============================] - 33s 595ms/step - loss: 0.2123 - accuracy: 0.9299 - val_loss: 1.5303 - val_accuracy: 0.6087\n",
            "Epoch 47/50\n",
            "56/56 [==============================] - 31s 563ms/step - loss: 0.2164 - accuracy: 0.9287 - val_loss: 1.2668 - val_accuracy: 0.6693\n",
            "Epoch 48/50\n",
            "56/56 [==============================] - 31s 562ms/step - loss: 0.1569 - accuracy: 0.9514 - val_loss: 1.4200 - val_accuracy: 0.6495\n",
            "Epoch 49/50\n",
            "56/56 [==============================] - 32s 566ms/step - loss: 0.1663 - accuracy: 0.9451 - val_loss: 1.9996 - val_accuracy: 0.6509\n",
            "Epoch 50/50\n",
            "56/56 [==============================] - 32s 564ms/step - loss: 0.1618 - accuracy: 0.9446 - val_loss: 2.5476 - val_accuracy: 0.6179\n"
          ]
        }
      ]
    },
    {
      "cell_type": "markdown",
      "source": [
        "# Training the Second Model"
      ],
      "metadata": {
        "id": "LFrWCzjcdxYU"
      }
    },
    {
      "cell_type": "code",
      "source": [
        "model6 =model2()\n",
        "opt = tf.optimizers.Adam(learning_rate= 0.0005)\n",
        "model6.compile(loss=tf.keras.losses.SparseCategoricalCrossentropy(), optimizer=opt,metrics=[\"accuracy\"])\n",
        "model6.fit(X_train,Y_train, epochs=50,verbose=1)\n",
        "Y_pred6 = model6.predict(X_test)\n",
        "Y_pred6 = tf.argmax(input=Y_pred6, axis=1)"
      ],
      "metadata": {
        "colab": {
          "base_uri": "https://localhost:8080/"
        },
        "id": "pJaVma8KF0UB",
        "outputId": "d22cc87b-7253-4132-fd74-9f53a6711bed"
      },
      "execution_count": 13,
      "outputs": [
        {
          "output_type": "stream",
          "name": "stdout",
          "text": [
            "Epoch 1/50\n",
            "56/56 [==============================] - 38s 422ms/step - loss: 1.7815 - accuracy: 0.2308\n",
            "Epoch 2/50\n",
            "56/56 [==============================] - 21s 383ms/step - loss: 1.6200 - accuracy: 0.3162\n",
            "Epoch 3/50\n",
            "56/56 [==============================] - 21s 382ms/step - loss: 1.5599 - accuracy: 0.3722\n",
            "Epoch 4/50\n",
            "56/56 [==============================] - 22s 385ms/step - loss: 1.4630 - accuracy: 0.3937\n",
            "Epoch 5/50\n",
            "56/56 [==============================] - 22s 386ms/step - loss: 1.4127 - accuracy: 0.4576\n",
            "Epoch 6/50\n",
            "56/56 [==============================] - 22s 388ms/step - loss: 1.3256 - accuracy: 0.4859\n",
            "Epoch 7/50\n",
            "56/56 [==============================] - 22s 390ms/step - loss: 1.2518 - accuracy: 0.5317\n",
            "Epoch 8/50\n",
            "56/56 [==============================] - 22s 390ms/step - loss: 1.1781 - accuracy: 0.5520\n",
            "Epoch 9/50\n",
            "56/56 [==============================] - 22s 392ms/step - loss: 1.0730 - accuracy: 0.5962\n",
            "Epoch 10/50\n",
            "56/56 [==============================] - 22s 393ms/step - loss: 0.9867 - accuracy: 0.6397\n",
            "Epoch 11/50\n",
            "56/56 [==============================] - 22s 393ms/step - loss: 0.9097 - accuracy: 0.6612\n",
            "Epoch 12/50\n",
            "56/56 [==============================] - 22s 394ms/step - loss: 0.8348 - accuracy: 0.6951\n",
            "Epoch 13/50\n",
            "56/56 [==============================] - 22s 394ms/step - loss: 0.7403 - accuracy: 0.7296\n",
            "Epoch 14/50\n",
            "56/56 [==============================] - 22s 394ms/step - loss: 0.7458 - accuracy: 0.7262\n",
            "Epoch 15/50\n",
            "56/56 [==============================] - 22s 393ms/step - loss: 0.6605 - accuracy: 0.7511\n",
            "Epoch 16/50\n",
            "56/56 [==============================] - 22s 394ms/step - loss: 0.6451 - accuracy: 0.7743\n",
            "Epoch 17/50\n",
            "56/56 [==============================] - 22s 394ms/step - loss: 0.5387 - accuracy: 0.7969\n",
            "Epoch 18/50\n",
            "56/56 [==============================] - 22s 394ms/step - loss: 0.5449 - accuracy: 0.8100\n",
            "Epoch 19/50\n",
            "56/56 [==============================] - 22s 394ms/step - loss: 0.4926 - accuracy: 0.8258\n",
            "Epoch 20/50\n",
            "56/56 [==============================] - 22s 394ms/step - loss: 0.4419 - accuracy: 0.8473\n",
            "Epoch 21/50\n",
            "56/56 [==============================] - 22s 393ms/step - loss: 0.4242 - accuracy: 0.8467\n",
            "Epoch 22/50\n",
            "56/56 [==============================] - 22s 394ms/step - loss: 0.4125 - accuracy: 0.8546\n",
            "Epoch 23/50\n",
            "56/56 [==============================] - 22s 394ms/step - loss: 0.4466 - accuracy: 0.8541\n",
            "Epoch 24/50\n",
            "56/56 [==============================] - 22s 394ms/step - loss: 0.3595 - accuracy: 0.8586\n",
            "Epoch 25/50\n",
            "56/56 [==============================] - 22s 394ms/step - loss: 0.3781 - accuracy: 0.8676\n",
            "Epoch 26/50\n",
            "56/56 [==============================] - 22s 394ms/step - loss: 0.3815 - accuracy: 0.8710\n",
            "Epoch 27/50\n",
            "56/56 [==============================] - 22s 393ms/step - loss: 0.3729 - accuracy: 0.8761\n",
            "Epoch 28/50\n",
            "56/56 [==============================] - 22s 395ms/step - loss: 0.2888 - accuracy: 0.8954\n",
            "Epoch 29/50\n",
            "56/56 [==============================] - 22s 394ms/step - loss: 0.3252 - accuracy: 0.8942\n",
            "Epoch 30/50\n",
            "56/56 [==============================] - 22s 394ms/step - loss: 0.3227 - accuracy: 0.8937\n",
            "Epoch 31/50\n",
            "56/56 [==============================] - 22s 394ms/step - loss: 0.2654 - accuracy: 0.9016\n",
            "Epoch 32/50\n",
            "56/56 [==============================] - 22s 394ms/step - loss: 0.2947 - accuracy: 0.9021\n",
            "Epoch 33/50\n",
            "56/56 [==============================] - 22s 395ms/step - loss: 0.2942 - accuracy: 0.8993\n",
            "Epoch 34/50\n",
            "56/56 [==============================] - 22s 394ms/step - loss: 0.3700 - accuracy: 0.8660\n",
            "Epoch 35/50\n",
            "56/56 [==============================] - 22s 394ms/step - loss: 0.2914 - accuracy: 0.9010\n",
            "Epoch 36/50\n",
            "56/56 [==============================] - 22s 394ms/step - loss: 0.3941 - accuracy: 0.8710\n",
            "Epoch 37/50\n",
            "56/56 [==============================] - 22s 394ms/step - loss: 0.2505 - accuracy: 0.9067\n",
            "Epoch 38/50\n",
            "56/56 [==============================] - 22s 394ms/step - loss: 0.2297 - accuracy: 0.9208\n",
            "Epoch 39/50\n",
            "56/56 [==============================] - 22s 393ms/step - loss: 0.2354 - accuracy: 0.9163\n",
            "Epoch 40/50\n",
            "56/56 [==============================] - 22s 394ms/step - loss: 0.3122 - accuracy: 0.9010\n",
            "Epoch 41/50\n",
            "56/56 [==============================] - 22s 394ms/step - loss: 0.2610 - accuracy: 0.9191\n",
            "Epoch 42/50\n",
            "56/56 [==============================] - 22s 393ms/step - loss: 0.2074 - accuracy: 0.9293\n",
            "Epoch 43/50\n",
            "56/56 [==============================] - 22s 394ms/step - loss: 0.2029 - accuracy: 0.9304\n",
            "Epoch 44/50\n",
            "56/56 [==============================] - 22s 393ms/step - loss: 0.2252 - accuracy: 0.9248\n",
            "Epoch 45/50\n",
            "56/56 [==============================] - 22s 394ms/step - loss: 0.3249 - accuracy: 0.8982\n",
            "Epoch 46/50\n",
            "56/56 [==============================] - 22s 394ms/step - loss: 0.2584 - accuracy: 0.9118\n",
            "Epoch 47/50\n",
            "56/56 [==============================] - 22s 394ms/step - loss: 0.2103 - accuracy: 0.9236\n",
            "Epoch 48/50\n",
            "56/56 [==============================] - 22s 394ms/step - loss: 0.2512 - accuracy: 0.9169\n",
            "Epoch 49/50\n",
            "56/56 [==============================] - 22s 393ms/step - loss: 0.2862 - accuracy: 0.9140\n",
            "Epoch 50/50\n",
            "56/56 [==============================] - 22s 394ms/step - loss: 0.2110 - accuracy: 0.9287\n"
          ]
        }
      ]
    },
    {
      "cell_type": "code",
      "source": [
        ""
      ],
      "metadata": {
        "id": "ihjMHCT6AWyC"
      },
      "execution_count": null,
      "outputs": []
    }
  ]
}